{
 "cells": [
  {
   "cell_type": "code",
   "execution_count": 1,
   "id": "82829777-7826-4a9f-a758-ec45b1e36fda",
   "metadata": {},
   "outputs": [],
   "source": [
    "import torch"
   ]
  },
  {
   "cell_type": "code",
   "execution_count": 7,
   "id": "8c0803f1-8253-4670-b132-f2e695e67b85",
   "metadata": {},
   "outputs": [],
   "source": [
    "rank = 10\n",
    "input_sizes = (10, 20, 30)\n",
    "output_size = 2\n",
    "\n",
    "W_1 = torch.rand((input_sizes[0], rank), requires_grad=True)\n",
    "W_2 = torch.rand((input_sizes[1], rank), requires_grad=True)\n",
    "W_3 = torch.rand((input_sizes[2], rank), requires_grad=True)\n",
    "W_y = torch.rand((output_size, rank), requires_grad=True)\n",
    "\n",
    "batch_size = 64\n",
    "X_1 = torch.rand((batch_size, input_sizes[0]))\n",
    "X_2 = torch.rand((batch_size, input_sizes[1]))\n",
    "X_3 = torch.rand((batch_size, input_sizes[2]))"
   ]
  },
  {
   "cell_type": "code",
   "execution_count": 20,
   "id": "d43217df-b369-4031-b817-6896f96258ba",
   "metadata": {},
   "outputs": [],
   "source": [
    "A_1 = X_1 @ W_1\n",
    "A_2 = X_2 @ W_2\n",
    "A_3 = X_3 @ W_3\n",
    "A_1.retain_grad()\n",
    "A_2.retain_grad()\n",
    "A_3.retain_grad()\n",
    "\n",
    "A_f = A_1 * A_2 * A_3\n",
    "A_f.retain_grad()\n",
    "\n",
    "y_hat = A_f @ W_y.T\n",
    "y_hat.retain_grad()"
   ]
  },
  {
   "cell_type": "code",
   "execution_count": 21,
   "id": "fd847e62-a6a7-4343-b955-328e0661046c",
   "metadata": {},
   "outputs": [],
   "source": [
    "y = torch.ones((batch_size, output_size))"
   ]
  },
  {
   "cell_type": "code",
   "execution_count": 22,
   "id": "c2983564-3a86-4f2f-b9cb-475e95cae759",
   "metadata": {},
   "outputs": [],
   "source": [
    "loss = torch.mean((y - y_hat)**2)"
   ]
  },
  {
   "cell_type": "code",
   "execution_count": 23,
   "id": "1d2bdae9-ae05-4f62-be0f-f445e6a12419",
   "metadata": {},
   "outputs": [],
   "source": [
    "loss.backward()"
   ]
  },
  {
   "cell_type": "code",
   "execution_count": 25,
   "id": "eb95bf83-e071-4d59-889c-97ebfd8586ea",
   "metadata": {},
   "outputs": [
    {
     "name": "stdout",
     "output_type": "stream",
     "text": [
      "torch.Size([64, 2])\n"
     ]
    }
   ],
   "source": [
    "print(y_hat.grad.shape)"
   ]
  },
  {
   "cell_type": "code",
   "execution_count": 26,
   "id": "377e1042-2c5e-42e5-88d3-5c55a776eb61",
   "metadata": {},
   "outputs": [
    {
     "name": "stdout",
     "output_type": "stream",
     "text": [
      "torch.Size([64, 10])\n"
     ]
    }
   ],
   "source": [
    "print(A_f.grad.shape)"
   ]
  },
  {
   "cell_type": "code",
   "execution_count": 27,
   "id": "e14c3733-5171-4215-9df9-403c0d597bb2",
   "metadata": {},
   "outputs": [
    {
     "name": "stdout",
     "output_type": "stream",
     "text": [
      "torch.Size([2, 10])\n"
     ]
    }
   ],
   "source": [
    "print(W_y.grad.shape)"
   ]
  },
  {
   "cell_type": "code",
   "execution_count": 28,
   "id": "5e96a765-235b-4db9-8776-53c61556c2dd",
   "metadata": {},
   "outputs": [
    {
     "data": {
      "text/plain": [
       "torch.Size([2, 10])"
      ]
     },
     "execution_count": 28,
     "metadata": {},
     "output_type": "execute_result"
    }
   ],
   "source": [
    "W_y.shape"
   ]
  },
  {
   "cell_type": "code",
   "execution_count": 30,
   "id": "13bf3f56-1a67-45cf-bbd7-09d5f35f7b32",
   "metadata": {},
   "outputs": [
    {
     "data": {
      "text/plain": [
       "torch.Size([64, 10])"
      ]
     },
     "execution_count": 30,
     "metadata": {},
     "output_type": "execute_result"
    }
   ],
   "source": [
    "A_f.shape"
   ]
  },
  {
   "cell_type": "code",
   "execution_count": 31,
   "id": "0f5eb8de-f954-489d-98e3-567097a1dea2",
   "metadata": {},
   "outputs": [
    {
     "data": {
      "text/plain": [
       "torch.Size([64, 10])"
      ]
     },
     "execution_count": 31,
     "metadata": {},
     "output_type": "execute_result"
    }
   ],
   "source": [
    "A_1.shape"
   ]
  },
  {
   "cell_type": "code",
   "execution_count": 32,
   "id": "c39c8f31-74a6-4da8-af71-07f705f04ca7",
   "metadata": {},
   "outputs": [
    {
     "data": {
      "text/plain": [
       "torch.Size([64, 10])"
      ]
     },
     "execution_count": 32,
     "metadata": {},
     "output_type": "execute_result"
    }
   ],
   "source": [
    "A_1.grad.shape"
   ]
  },
  {
   "cell_type": "code",
   "execution_count": 33,
   "id": "67d79fe6-3d07-4d5d-bc7b-22f091ae52e6",
   "metadata": {},
   "outputs": [
    {
     "data": {
      "text/plain": [
       "torch.Size([10, 10])"
      ]
     },
     "execution_count": 33,
     "metadata": {},
     "output_type": "execute_result"
    }
   ],
   "source": [
    "W_1.grad.shape"
   ]
  },
  {
   "cell_type": "code",
   "execution_count": 34,
   "id": "3c28c5e5-5a4d-455f-bc5a-ab67908b8931",
   "metadata": {},
   "outputs": [
    {
     "data": {
      "text/plain": [
       "torch.Size([64, 10])"
      ]
     },
     "execution_count": 34,
     "metadata": {},
     "output_type": "execute_result"
    }
   ],
   "source": [
    "A_1.grad.shape"
   ]
  },
  {
   "cell_type": "code",
   "execution_count": 36,
   "id": "43c26a35-b1a5-4e85-a6b3-0db2685935cf",
   "metadata": {},
   "outputs": [
    {
     "data": {
      "text/plain": [
       "torch.Size([64, 10])"
      ]
     },
     "execution_count": 36,
     "metadata": {},
     "output_type": "execute_result"
    }
   ],
   "source": [
    "A_2.grad.shape"
   ]
  },
  {
   "cell_type": "code",
   "execution_count": 38,
   "id": "3a1edfac-b7c4-454b-90c2-5807f696633e",
   "metadata": {},
   "outputs": [
    {
     "data": {
      "text/plain": [
       "torch.Size([64, 20])"
      ]
     },
     "execution_count": 38,
     "metadata": {},
     "output_type": "execute_result"
    }
   ],
   "source": [
    "X_2.shape"
   ]
  },
  {
   "cell_type": "code",
   "execution_count": 40,
   "id": "e4ed10f5-4467-43fa-9d80-bef92e49b612",
   "metadata": {},
   "outputs": [
    {
     "data": {
      "text/plain": [
       "torch.Size([64, 10])"
      ]
     },
     "execution_count": 40,
     "metadata": {},
     "output_type": "execute_result"
    }
   ],
   "source": [
    "A_f.grad.shape"
   ]
  },
  {
   "cell_type": "code",
   "execution_count": 42,
   "id": "6e1ac2fc-d858-4534-becf-d658d64c6012",
   "metadata": {},
   "outputs": [
    {
     "data": {
      "text/plain": [
       "torch.Size([64, 2])"
      ]
     },
     "execution_count": 42,
     "metadata": {},
     "output_type": "execute_result"
    }
   ],
   "source": [
    "y_hat.grad.shape"
   ]
  },
  {
   "cell_type": "code",
   "execution_count": 43,
   "id": "848bfbaa-c9b8-4b32-9537-4cae014cc4e0",
   "metadata": {},
   "outputs": [
    {
     "data": {
      "text/plain": [
       "torch.Size([2, 10])"
      ]
     },
     "execution_count": 43,
     "metadata": {},
     "output_type": "execute_result"
    }
   ],
   "source": [
    "W_y.grad.shape"
   ]
  },
  {
   "cell_type": "code",
   "execution_count": null,
   "id": "02abbfa3-7f24-4877-a84d-d1162b1213f5",
   "metadata": {},
   "outputs": [],
   "source": []
  }
 ],
 "metadata": {
  "kernelspec": {
   "display_name": "Python 3 (ipykernel)",
   "language": "python",
   "name": "python3"
  },
  "language_info": {
   "codemirror_mode": {
    "name": "ipython",
    "version": 3
   },
   "file_extension": ".py",
   "mimetype": "text/x-python",
   "name": "python",
   "nbconvert_exporter": "python",
   "pygments_lexer": "ipython3",
   "version": "3.9.7"
  }
 },
 "nbformat": 4,
 "nbformat_minor": 5
}
