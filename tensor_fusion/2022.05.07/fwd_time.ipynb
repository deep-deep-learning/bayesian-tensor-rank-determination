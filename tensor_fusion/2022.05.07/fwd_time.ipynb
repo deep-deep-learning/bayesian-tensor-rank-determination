{
 "cells": [
  {
   "cell_type": "code",
   "execution_count": 11,
   "metadata": {},
   "outputs": [],
   "source": [
    "from tensor_fusion.module import AdaptiveRankLinear\n",
    "import torch.nn as nn\n",
    "\n",
    "in_features, out_features = 128, 128\n",
    "rank = 1.0\n",
    "bias=False\n",
    "\n",
    "cp = AdaptiveRankLinear(in_features, out_features, rank, bias, 'CP')\n",
    "tt = AdaptiveRankLinear(in_features, out_features, rank, bias, 'TT')\n",
    "full = nn.Linear(128, 128, bias)"
   ]
  },
  {
   "cell_type": "code",
   "execution_count": 19,
   "metadata": {},
   "outputs": [
    {
     "name": "stdout",
     "output_type": "stream",
     "text": [
      "CP FWD time 0.0056\n",
      "TT FWD time 0.0019\n",
      "Full FWD time 0.0017\n"
     ]
    }
   ],
   "source": [
    "import torch\n",
    "import time\n",
    "\n",
    "a = torch.rand((1, 128))\n",
    "\n",
    "tic = time.time()\n",
    "out = cp(a)\n",
    "toc = time.time()\n",
    "print('CP FWD time {:.4f}'.format(toc - tic))\n",
    "\n",
    "tic = time.time()\n",
    "out = tt(a)\n",
    "toc = time.time()\n",
    "print('TT FWD time {:.4f}'.format(toc - tic))\n",
    "\n",
    "tic = time.time()\n",
    "out = full(a)\n",
    "toc = time.time()\n",
    "print('Full FWD time {:.4f}'.format(toc - tic))"
   ]
  }
 ],
 "metadata": {
  "interpreter": {
   "hash": "8d381c0d5fdc2ad83ad0668835ab5719aa4babc32c7351cb80dde318b7d35d97"
  },
  "kernelspec": {
   "display_name": "Python 3.8.10 ('tensor_fusion')",
   "language": "python",
   "name": "python3"
  },
  "language_info": {
   "codemirror_mode": {
    "name": "ipython",
    "version": 3
   },
   "file_extension": ".py",
   "mimetype": "text/x-python",
   "name": "python",
   "nbconvert_exporter": "python",
   "pygments_lexer": "ipython3",
   "version": "3.8.10"
  },
  "orig_nbformat": 4
 },
 "nbformat": 4,
 "nbformat_minor": 2
}
