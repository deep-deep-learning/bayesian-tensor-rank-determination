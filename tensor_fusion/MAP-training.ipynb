{
 "cells": [
  {
   "cell_type": "code",
   "execution_count": 1,
   "id": "cc5f4897-7608-414a-8887-ab5ad2bbaa8e",
   "metadata": {},
   "outputs": [],
   "source": [
    "import torch\n",
    "import torch.nn as nn\n",
    "import torch.optim as optim\n",
    "\n",
    "from torch.autograd import Variable\n",
    "from torch.utils.data import DataLoader\n",
    "\n",
    "import numpy as np\n",
    "\n",
    "import pickle\n",
    "\n",
    "from datasets import Multimodal_Binary_Dataset\n",
    "from fusion_model import CP_Tensor_Fusion_Network\n",
    "\n",
    "import time"
   ]
  },
  {
   "cell_type": "code",
   "execution_count": 2,
   "id": "8d2c45b9-5fd9-48b5-b441-cab6251d961b",
   "metadata": {},
   "outputs": [],
   "source": [
    "def train_cmu_mosi(batch_size=32, epochs=100, lr=.001, max_rank=20, rank_adaptive=True,  \n",
    "                   warmup_epochs=50, kl_multiplier=1e-4, no_kl_epochs=5, accelerated=True):\n",
    "\n",
    "    # load dataset file\n",
    "    file = open('../../dataset/cmu-mosi/mosi_20_seq_data.pkl', 'rb')\n",
    "    data = pickle.load(file)\n",
    "    file.close()\n",
    "\n",
    "    # prepare the datasets and data loaders\n",
    "    train_set = Multimodal_Binary_Dataset(data['train']['text'], data['train']['audio'],\n",
    "                                  data['train']['vision'], data['train']['labels'])\n",
    "    valid_set = Multimodal_Binary_Dataset(data['valid']['text'], data['valid']['audio'],\n",
    "                                  data['valid']['vision'], data['valid']['labels'])\n",
    "\n",
    "    train_dataloader = DataLoader(train_set, batch_size=batch_size, shuffle=True)\n",
    "    valid_dataloader = DataLoader(valid_set, batch_size=len(valid_set))\n",
    "\n",
    "    # set up model\n",
    "    input_sizes = (train_set[0][0]['audio'].shape[0], train_set[0][0]['vision'].shape[0],\n",
    "                   train_set[0][0]['text'].shape[1])\n",
    "    hidden_sizes = (32, 32, 128)\n",
    "    output_size = 1\n",
    "    \n",
    "    model = CP_Tensor_Fusion_Network(input_sizes, hidden_sizes, output_size, max_rank,\n",
    "                                     rank_adaptive)\n",
    "    # set up training\n",
    "    DTYPE = torch.FloatTensor\n",
    "    optimizer = optim.Adam(list(model.parameters()), lr=lr)\n",
    "    criterion = nn.BCEWithLogitsLoss()\n",
    "    \n",
    "    # train and validate\n",
    "    for e in range(1, epochs + 1):\n",
    "        # train\n",
    "        tic = time.time()\n",
    "        model.train()\n",
    "        train_loss = 0.0\n",
    "        for batch in train_dataloader:\n",
    "            model.zero_grad()\n",
    "\n",
    "            features, label = batch\n",
    "            \n",
    "            x_a = Variable(features['audio'].float().type(DTYPE), requires_grad=False)\n",
    "            x_v = Variable(features['vision'].float().type(DTYPE), requires_grad=False)\n",
    "            x_t = Variable(features['text'].float().type(DTYPE), requires_grad=False)\n",
    "            y = Variable(label.view(-1, 1).float().type(DTYPE), requires_grad=False)\n",
    "            \n",
    "            output = model([x_a, x_v, x_t])\n",
    "            nll_loss = criterion(output, y)\n",
    "            nll_loss.backward()\n",
    "            optimizer.step()\n",
    "            train_loss += nll_loss.item()\n",
    "            \n",
    "        print(train_loss)"
   ]
  },
  {
   "cell_type": "code",
   "execution_count": 3,
   "id": "5a1b21b4-63e2-4d99-9dc6-485a33647532",
   "metadata": {},
   "outputs": [
    {
     "name": "stderr",
     "output_type": "stream",
     "text": [
      "/opt/anaconda3/envs/tensor_fusion/lib/python3.9/site-packages/torch/nn/modules/rnn.py:62: UserWarning: dropout option adds dropout after all but last recurrent layer, so non-zero dropout expects num_layers greater than 1, but got dropout=0.3 and num_layers=1\n",
      "  warnings.warn(\"dropout option adds dropout after all but last \"\n"
     ]
    },
    {
     "name": "stdout",
     "output_type": "stream",
     "text": [
      "27.88590008020401\n",
      "23.828711956739426\n",
      "20.843992859125137\n",
      "18.409786969423294\n",
      "16.602273672819138\n",
      "14.10087388753891\n",
      "10.716878190636635\n",
      "9.64777647703886\n",
      "8.159154407680035\n",
      "6.987912703305483\n",
      "8.234772942960262\n",
      "6.850535240024328\n",
      "6.31910882377997\n",
      "2.016575005836785\n",
      "1.274231556802988\n",
      "1.8493509874679148\n",
      "5.899216145160608\n",
      "1.9969846843741834\n",
      "2.1268945937918033\n",
      "0.620433097705245\n",
      "1.121006367407972\n",
      "1.554528527369257\n",
      "0.5599256321511348\n",
      "0.2029685300312849\n",
      "0.2411186918270687\n",
      "0.3446410106380142\n",
      "0.3302184418619163\n",
      "0.3213599407026777\n",
      "1.0710114018711465\n",
      "1.5202221790932526\n",
      "0.5968834619416157\n",
      "0.17277744274178986\n",
      "0.30268214596799226\n",
      "3.540458898336965\n",
      "1.5768700855987845\n",
      "0.29061798652401194\n",
      "0.0926775376808564\n",
      "0.12466045725341246\n",
      "0.08646023813594184\n",
      "0.018888536638769438\n",
      "0.01930521933951468\n",
      "0.01894114067385999\n",
      "0.013641328444492729\n",
      "0.008472226526265558\n",
      "0.00522177584191752\n",
      "0.002679475468319481\n",
      "0.49273183114985386\n",
      "2.386311451700749\n",
      "1.0420152026927099\n",
      "0.30027840349066537\n",
      "0.06478347786559624\n",
      "0.04379572102709517\n",
      "0.3712939794202157\n",
      "0.6441479582545071\n",
      "0.30398792347659764\n",
      "0.28234008424260537\n",
      "0.22644505683081206\n",
      "0.056209327556643984\n",
      "0.03565687140689988\n",
      "0.18735547057985968\n",
      "0.0863693919050661\n",
      "0.022307027037072658\n",
      "0.020171857653849656\n",
      "0.007503962926547203\n",
      "0.03807460107066163\n",
      "0.02584132137051043\n",
      "0.011626413639708844\n",
      "0.10684026954575643\n",
      "0.7009588889852694\n",
      "1.0716659406280087\n",
      "0.422605119914806\n",
      "0.03658829768602345\n",
      "0.020959616237632872\n",
      "0.03540159413745414\n",
      "0.011683273954410822\n",
      "0.02090552022360015\n",
      "0.0070393658174463525\n",
      "0.019246521873625966\n",
      "0.07958173006919367\n",
      "1.1322022661933033\n",
      "0.7991054444282781\n",
      "0.5810940628980461\n",
      "0.6714214630033553\n",
      "0.08631478535608039\n",
      "0.06589613495947333\n",
      "0.023377017480747497\n",
      "0.007171521781365042\n",
      "1.685012967882791\n",
      "0.7901100813251105\n",
      "0.16343614841025556\n",
      "0.09421697547708163\n",
      "0.022754361119950772\n",
      "0.07500214513490278\n",
      "0.1392105908986423\n",
      "0.06973820478307857\n",
      "0.01702651286642798\n",
      "0.003949203026872183\n",
      "0.031615382371219525\n",
      "0.06730882574483843\n",
      "2.2037823025088983\n"
     ]
    }
   ],
   "source": [
    "train_cmu_mosi()"
   ]
  },
  {
   "cell_type": "code",
   "execution_count": 48,
   "id": "7f07c427-de4e-4f12-8363-39219b3c538a",
   "metadata": {},
   "outputs": [
    {
     "data": {
      "text/plain": [
       "torch.Size([32, 1])"
      ]
     },
     "execution_count": 48,
     "metadata": {},
     "output_type": "execute_result"
    }
   ],
   "source": [
    "y.shape"
   ]
  },
  {
   "cell_type": "code",
   "execution_count": 45,
   "id": "69dc9a15-b8dc-4a77-89e5-747779ea286c",
   "metadata": {},
   "outputs": [
    {
     "data": {
      "text/plain": [
       "torch.Size([32, 1, 1])"
      ]
     },
     "execution_count": 45,
     "metadata": {},
     "output_type": "execute_result"
    }
   ],
   "source": [
    "label.shape"
   ]
  }
 ],
 "metadata": {
  "kernelspec": {
   "display_name": "Python 3 (ipykernel)",
   "language": "python",
   "name": "python3"
  },
  "language_info": {
   "codemirror_mode": {
    "name": "ipython",
    "version": 3
   },
   "file_extension": ".py",
   "mimetype": "text/x-python",
   "name": "python",
   "nbconvert_exporter": "python",
   "pygments_lexer": "ipython3",
   "version": "3.9.7"
  }
 },
 "nbformat": 4,
 "nbformat_minor": 5
}
